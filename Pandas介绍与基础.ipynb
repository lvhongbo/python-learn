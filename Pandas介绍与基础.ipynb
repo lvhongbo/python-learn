{
 "cells": [
  {
   "cell_type": "markdown",
   "id": "b88b687a-4ab1-4842-8dc3-2e640fa6a931",
   "metadata": {},
   "source": [
    "# 学习目标：\n",
    "- 学习Pandas一些最重要的特性\n",
    "- 使用Pandas 载入数据文件\n",
    "- 使用Panads 从数据库中载入数据\n",
    "- 使用Pandas 对数据进行探索、清洗、转换\n",
    "- 数据可视化的基础知识\n"
   ]
  },
  {
   "cell_type": "markdown",
   "id": "16c4824b-f20c-4411-a144-2ae58bb94941",
   "metadata": {
    "tags": []
   },
   "source": [
    "# 第1课：Pands基础\n",
    "- 课程目标:\n",
    "    - 了解Pandas库以及在数据分析中的重要性\n",
    "    - 使用Pandas的数据导入和基本操作\n",
    "- 内容：\n",
    "    - Pandas库的安装和导入\n",
    "    - Series和DataFrame的基本操作\n",
    "    - 创建Series和DataFrame\n",
    "    - 访问和修改DataFrame中的数据"
   ]
  },
  {
   "cell_type": "markdown",
   "id": "e4e3fa2b-0982-4667-8f22-31d50592627f",
   "metadata": {},
   "source": [
    "## 介绍Pandas：\n",
    "Pandas库是当今使用Python进行工作的数据科学家和分析师所使用的最重要的工具。强大的机器学习和迷人的可视化工具可能会吸引大家关注，但是，Pandas是大多数数据项目的基础。\n",
    "\n",
    "[pandas]源自术语“panel data”，这是计量经济学中用于描述数据集的术语，这些数据集是对一些个体在多个时间段内的观察结果。——维基百科\n"
   ]
  },
  {
   "cell_type": "markdown",
   "id": "26abfddb-1ce8-4906-837b-b647bba58341",
   "metadata": {},
   "source": [
    "## Pandas库的安装和导入"
   ]
  },
  {
   "cell_type": "code",
   "execution_count": null,
   "id": "26c53760-2d30-4f29-8dd6-7f7f85b38df2",
   "metadata": {},
   "outputs": [],
   "source": [
    "# 使用conda install\n",
    "conda install pandas\n",
    "\n",
    "# 使用pip\n",
    "pip install pandas"
   ]
  },
  {
   "cell_type": "code",
   "execution_count": 2,
   "id": "4217907c-fdd7-44c2-bdad-228cde5f2143",
   "metadata": {},
   "outputs": [
    {
     "data": {
      "text/html": [
       "<div>\n",
       "<style scoped>\n",
       "    .dataframe tbody tr th:only-of-type {\n",
       "        vertical-align: middle;\n",
       "    }\n",
       "\n",
       "    .dataframe tbody tr th {\n",
       "        vertical-align: top;\n",
       "    }\n",
       "\n",
       "    .dataframe thead th {\n",
       "        text-align: right;\n",
       "    }\n",
       "</style>\n",
       "<table border=\"1\" class=\"dataframe\">\n",
       "  <thead>\n",
       "    <tr style=\"text-align: right;\">\n",
       "      <th></th>\n",
       "      <th>apples</th>\n",
       "      <th>oranges</th>\n",
       "    </tr>\n",
       "  </thead>\n",
       "  <tbody>\n",
       "    <tr>\n",
       "      <th>0</th>\n",
       "      <td>3</td>\n",
       "      <td>0</td>\n",
       "    </tr>\n",
       "    <tr>\n",
       "      <th>1</th>\n",
       "      <td>2</td>\n",
       "      <td>3</td>\n",
       "    </tr>\n",
       "    <tr>\n",
       "      <th>2</th>\n",
       "      <td>0</td>\n",
       "      <td>7</td>\n",
       "    </tr>\n",
       "    <tr>\n",
       "      <th>3</th>\n",
       "      <td>1</td>\n",
       "      <td>2</td>\n",
       "    </tr>\n",
       "  </tbody>\n",
       "</table>\n",
       "</div>"
      ],
      "text/plain": [
       "   apples  oranges\n",
       "0       3        0\n",
       "1       2        3\n",
       "2       0        7\n",
       "3       1        2"
      ]
     },
     "execution_count": 2,
     "metadata": {},
     "output_type": "execute_result"
    }
   ],
   "source": [
    "import pandas as pd\n",
    "data = {\n",
    "    'apples': [3, 2, 0, 1], \n",
    "    'oranges': [0, 3, 7, 2]\n",
    "}\n",
    "\n",
    "purchases = pd.DataFrame(data)\n",
    "purchases"
   ]
  },
  {
   "cell_type": "markdown",
   "id": "c6bb0487-f41b-4d2f-9502-b87f13f9f336",
   "metadata": {},
   "source": [
    "## Series和DataFrame的基本操作\n",
    "- Series\n",
    "- DataFrame"
   ]
  },
  {
   "cell_type": "code",
   "execution_count": 3,
   "id": "82bdf73e-6bf3-4dae-a989-4ebc8d62b713",
   "metadata": {},
   "outputs": [
    {
     "data": {
      "text/html": [
       "<div>\n",
       "<style scoped>\n",
       "    .dataframe tbody tr th:only-of-type {\n",
       "        vertical-align: middle;\n",
       "    }\n",
       "\n",
       "    .dataframe tbody tr th {\n",
       "        vertical-align: top;\n",
       "    }\n",
       "\n",
       "    .dataframe thead th {\n",
       "        text-align: right;\n",
       "    }\n",
       "</style>\n",
       "<table border=\"1\" class=\"dataframe\">\n",
       "  <thead>\n",
       "    <tr style=\"text-align: right;\">\n",
       "      <th></th>\n",
       "      <th>apples</th>\n",
       "      <th>oranges</th>\n",
       "    </tr>\n",
       "  </thead>\n",
       "  <tbody>\n",
       "    <tr>\n",
       "      <th>June</th>\n",
       "      <td>3</td>\n",
       "      <td>0</td>\n",
       "    </tr>\n",
       "    <tr>\n",
       "      <th>Robert</th>\n",
       "      <td>2</td>\n",
       "      <td>3</td>\n",
       "    </tr>\n",
       "    <tr>\n",
       "      <th>Lily</th>\n",
       "      <td>0</td>\n",
       "      <td>7</td>\n",
       "    </tr>\n",
       "    <tr>\n",
       "      <th>David</th>\n",
       "      <td>1</td>\n",
       "      <td>2</td>\n",
       "    </tr>\n",
       "  </tbody>\n",
       "</table>\n",
       "</div>"
      ],
      "text/plain": [
       "        apples  oranges\n",
       "June         3        0\n",
       "Robert       2        3\n",
       "Lily         0        7\n",
       "David        1        2"
      ]
     },
     "execution_count": 3,
     "metadata": {},
     "output_type": "execute_result"
    }
   ],
   "source": [
    "purchases = pd.DataFrame(data, index=['June', 'Robert', 'Lily', 'David'])\n",
    "purchases"
   ]
  },
  {
   "cell_type": "code",
   "execution_count": null,
   "id": "5f61d50e-e924-4a43-8e7d-090de1ca3b99",
   "metadata": {},
   "outputs": [],
   "source": []
  }
 ],
 "metadata": {
  "kernelspec": {
   "display_name": "Python 3 (ipykernel)",
   "language": "python",
   "name": "python3"
  },
  "language_info": {
   "codemirror_mode": {
    "name": "ipython",
    "version": 3
   },
   "file_extension": ".py",
   "mimetype": "text/x-python",
   "name": "python",
   "nbconvert_exporter": "python",
   "pygments_lexer": "ipython3",
   "version": "3.10.9"
  }
 },
 "nbformat": 4,
 "nbformat_minor": 5
}
