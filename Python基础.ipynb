{
 "cells": [
  {
   "cell_type": "markdown",
   "id": "af5bbd97-c28a-4fc1-a3fb-654a96b06111",
   "metadata": {},
   "source": [
    "# 第1课时：Python基础与控制流程\n",
    "- **目标**：了解Python基础语法，掌握基本的控制流程。\n",
    "- **内容**：\n",
    "  1. Python环境搭建与基本语法\n",
    "  2. 变量与数据类型\n",
    "  3. 条件语句（if-elif-else）\n",
    "  4. 循环语句（for, while）\n",
    "  5. 练习：编写简单的条件判断和循环程序\n"
   ]
  },
  {
   "cell_type": "markdown",
   "id": "6c79fded-5850-4fbe-b129-e6058812cc0e",
   "metadata": {},
   "source": [
    "## 1. 编写第一个Python程序：“Hello, World!”\n",
    "- 安装Python并配置环境变量。\n",
    "- 了解Python的基本语法：缩进、注释等。"
   ]
  },
  {
   "cell_type": "code",
   "execution_count": null,
   "id": "f0de543c-8137-44aa-bdc9-a91d451a296a",
   "metadata": {},
   "outputs": [],
   "source": [
    "# 打印Hello, World!\n",
    "print(\"Hello, World!\")"
   ]
  },
  {
   "cell_type": "markdown",
   "id": "994ff4a5-63fc-42b3-9b10-fa3a7ba8096c",
   "metadata": {},
   "source": [
    "## 2.变量与数据类型\n",
    "- 变量的声明和赋值。\n",
    "- 常用的数据类型：整数（int）、浮点数（float）、字符串（str）、布尔值（bool）。"
   ]
  },
  {
   "cell_type": "code",
   "execution_count": 17,
   "id": "645b5de9-2188-4803-a3df-403a508a9ae3",
   "metadata": {},
   "outputs": [
    {
     "name": "stdout",
     "output_type": "stream",
     "text": [
      "Name: Kimi\n",
      "Age: 30\n",
      "Height: 1.75\n",
      "Is Student: False\n",
      "<class 'str'>\n"
     ]
    }
   ],
   "source": [
    "# 变量赋值\n",
    "name = \"Kimi\"\n",
    "age = 30\n",
    "height = 1.75\n",
    "is_student = False\n",
    "\n",
    "# 打印变量\n",
    "print(\"Name:\", name)\n",
    "print(\"Age:\", age)\n",
    "print(\"Height:\", height)\n",
    "print(\"Is Student:\", is_student)\n",
    "\n",
    "print(type(name))"
   ]
  },
  {
   "cell_type": "markdown",
   "id": "76c2472f-2f0f-48df-b9a7-71e68c72344b",
   "metadata": {},
   "source": [
    "## 3.条件语句（if-elif-else）\n",
    "- 学会使用if-elif-else进行条件判断。"
   ]
  },
  {
   "cell_type": "code",
   "execution_count": 25,
   "id": "04e363db-353d-400d-bd6e-fc5099826ddc",
   "metadata": {},
   "outputs": [
    {
     "name": "stdout",
     "output_type": "stream",
     "text": [
      "良好\n"
     ]
    }
   ],
   "source": [
    "# 条件判断\n",
    "score = 85\n",
    "if score >= 90:\n",
    "    print(\"优秀\")\n",
    "elif score >= 70:\n",
    "    print(\"良好\")\n",
    "else:\n",
    "    print(\"及格\")"
   ]
  },
  {
   "cell_type": "markdown",
   "id": "509f4786-ec01-464b-a2c2-b58d456d035e",
   "metadata": {},
   "source": [
    "## 4.循环语句（for, while）\n",
    "- 掌握for循环和while循环的使用。"
   ]
  },
  {
   "cell_type": "code",
   "execution_count": 28,
   "id": "21192ec0-79f4-428d-8c15-7099aec0fdee",
   "metadata": {},
   "outputs": [
    {
     "name": "stdout",
     "output_type": "stream",
     "text": [
      "apple\n",
      "banana\n",
      "cherry\n",
      "Number is: 1\n",
      "Number is: 2\n",
      "Number is: 3\n",
      "Number is: 4\n",
      "Number is: 5\n"
     ]
    }
   ],
   "source": [
    "# for循环\n",
    "fruits = [\"apple\", \"banana\", \"cherry\"]\n",
    "for fruit in fruits:\n",
    "    print(fruit)\n",
    "\n",
    "# while循环\n",
    "i = 1\n",
    "while i <= 5:\n",
    "    print(\"Number is:\", i)\n",
    "    i += 1"
   ]
  },
  {
   "cell_type": "markdown",
   "id": "c305bfbc-f563-40b9-a165-f86951874086",
   "metadata": {},
   "source": [
    "## 5.练习：编写简单的条件判断和循环程序\n",
    "- 编写一个程序，根据用户输入的成绩判断等级。\n",
    "- 编写一个程序，计算并输出1到100的和。"
   ]
  },
  {
   "cell_type": "code",
   "execution_count": 33,
   "id": "2f5a3c0d-d6c3-4cf1-a18d-4946289f0ddf",
   "metadata": {},
   "outputs": [
    {
     "name": "stdin",
     "output_type": "stream",
     "text": [
      "请输入成绩： 200\n"
     ]
    },
    {
     "name": "stdout",
     "output_type": "stream",
     "text": [
      "优秀\n"
     ]
    }
   ],
   "source": [
    "# 练习1：成绩判断\n",
    "score = float(input(\"请输入成绩：\"))\n",
    "if score >= 90:\n",
    "    print(\"优秀\")\n",
    "elif score >= 70:\n",
    "    print(\"良好\")\n",
    "else:\n",
    "    print(\"及格\")"
   ]
  },
  {
   "cell_type": "code",
   "execution_count": 35,
   "id": "4f77f108-7889-48f4-b225-b94ff5ce2435",
   "metadata": {},
   "outputs": [
    {
     "name": "stdout",
     "output_type": "stream",
     "text": [
      "1到100的和是: 5050\n"
     ]
    }
   ],
   "source": [
    "# 练习2：计算1到100的和\n",
    "sum = 0\n",
    "for i in range(1, 101):\n",
    "    sum += i\n",
    "print(\"1到100的和是:\", sum)"
   ]
  },
  {
   "cell_type": "markdown",
   "id": "9fa4ab3b-b63f-4636-a15e-cfe455f94fae",
   "metadata": {},
   "source": [
    "## 作业和实践：\n",
    "- 条件判断练习\n",
    "编写一个程序，根据用户的年龄输出不同的年龄段（儿童、青少年、成年、老年）。"
   ]
  },
  {
   "cell_type": "code",
   "execution_count": 40,
   "id": "fe49381f-cc8c-4b2d-b6a7-d4bd2b5646b5",
   "metadata": {},
   "outputs": [
    {
     "name": "stdin",
     "output_type": "stream",
     "text": [
      "请输入年龄： 34\n"
     ]
    },
    {
     "name": "stdout",
     "output_type": "stream",
     "text": [
      "成年\n"
     ]
    }
   ],
   "source": [
    "age = int(input(\"请输入年龄：\"))\n",
    "if age < 13:\n",
    "    print(\"儿童\")\n",
    "elif age < 18:\n",
    "    print(\"青少年\")\n",
    "elif age < 60:\n",
    "    print(\"成年\")\n",
    "else:\n",
    "    print(\"老年\")"
   ]
  },
  {
   "cell_type": "markdown",
   "id": "792552b7-eba2-4d6e-a25f-67c175a3f4b8",
   "metadata": {},
   "source": [
    "- 循环练习\n",
    "编写一个程序，输出乘法表。"
   ]
  },
  {
   "cell_type": "code",
   "execution_count": 49,
   "id": "f387a5ef-b597-4247-9bef-f7781cd43a20",
   "metadata": {},
   "outputs": [
    {
     "name": "stdout",
     "output_type": "stream",
     "text": [
      "1x1=1\t\n",
      "1x2=2\t2x2=4\t\n",
      "1x3=3\t2x3=6\t3x3=9\t\n",
      "1x4=4\t2x4=8\t3x4=12\t4x4=16\t\n",
      "1x5=5\t2x5=10\t3x5=15\t4x5=20\t5x5=25\t\n",
      "1x6=6\t2x6=12\t3x6=18\t4x6=24\t5x6=30\t6x6=36\t\n",
      "1x7=7\t2x7=14\t3x7=21\t4x7=28\t5x7=35\t6x7=42\t7x7=49\t\n",
      "1x8=8\t2x8=16\t3x8=24\t4x8=32\t5x8=40\t6x8=48\t7x8=56\t8x8=64\t\n",
      "1x9=9\t2x9=18\t3x9=27\t4x9=36\t5x9=45\t6x9=54\t7x9=63\t8x9=72\t9x9=81\t\n"
     ]
    }
   ],
   "source": [
    "for i in range(1, 10):\n",
    "    for j in range(1, i + 1):\n",
    "        print(f\"{j}x{i}={i*j}\", end=\"\\t\")\n",
    "    print()  # 换行"
   ]
  },
  {
   "cell_type": "markdown",
   "id": "dad4c3af-6059-4dfa-a1b7-7634de0e0206",
   "metadata": {},
   "source": [
    "# 第2课时：数据结构（列表、元组）\n",
    "- **目标**：掌握Python中列表和元组的基本操作。\n",
    "- **内容**：\n",
    "  1. 列表与元组的定义与特性\n",
    "  2. 列表与元组的索引、切片\n",
    "  3. 列表推导式\n",
    "  4. 列表与元组的方法（append, extend, sort, reverse等）\n",
    "  5. 练习：列表和元组的常用操作\n",
    "\n"
   ]
  },
  {
   "cell_type": "markdown",
   "id": "6ee5c689-e0b1-4e05-b84a-8db3cc8d60e3",
   "metadata": {},
   "source": [
    "## 1.列表与元组的定义与特性\n",
    "- 列表（list）是可变的，可以修改元素，添加或删除元素。\n",
    "- 元组（tuple）是不可变的，一旦创建就不能修改。"
   ]
  },
  {
   "cell_type": "code",
   "execution_count": 76,
   "id": "a9ebf323-733b-43a9-99af-2567d17233b6",
   "metadata": {},
   "outputs": [],
   "source": [
    "# 列表定义\n",
    "my_list = [1, 2, 3, 4, 5]\n",
    "# 元组定义\n",
    "my_tuple = (1, 2, 3, 4, 5)"
   ]
  },
  {
   "cell_type": "markdown",
   "id": "0f36dab6-2cdd-4056-b8c8-e4a6a8e8679d",
   "metadata": {},
   "source": [
    "## 2.列表与元组的索引、切片\n",
    "- 索引：访问列表或元组中的单个元素。\n",
    "- 切片：访问列表或元组中的元素片段。"
   ]
  },
  {
   "cell_type": "code",
   "execution_count": 67,
   "id": "96fb5d03-6c63-4049-9a7b-b241c3c37952",
   "metadata": {},
   "outputs": [
    {
     "name": "stdout",
     "output_type": "stream",
     "text": [
      "1\n",
      "5\n",
      "[2, 3]\n",
      "(1, 2, 3)\n",
      "(3, 4, 5)\n"
     ]
    }
   ],
   "source": [
    "# 索引\n",
    "print(my_list[0])  # 输出第一个元素\n",
    "print(my_tuple[-1])  # 输出最后一个元素\n",
    "\n",
    "# 切片\n",
    "print(my_list[1:3])  # 输出第二个到第三个元素\n",
    "print(my_tuple[:3])  # 输出第一个到第三个元素\n",
    "print(my_tuple[2:])  # 输出第三个到最后一个元素"
   ]
  },
  {
   "cell_type": "markdown",
   "id": "8d4a9d49-a663-48ff-838f-29a9f610b7c3",
   "metadata": {},
   "source": [
    "## 3.列表推导式\n",
    "- 使用列表推导式创建新列表。"
   ]
  },
  {
   "cell_type": "code",
   "execution_count": 74,
   "id": "b8a00bb8-1712-4005-a70c-c2b52de34cf2",
   "metadata": {},
   "outputs": [
    {
     "name": "stdout",
     "output_type": "stream",
     "text": [
      "[0, 1, 4, 9, 16, 25, 36, 49, 64, 81]\n"
     ]
    }
   ],
   "source": [
    "# 列表推导式\n",
    "squares = [x**2 for x in range(10)]\n",
    "print(squares)"
   ]
  },
  {
   "cell_type": "markdown",
   "id": "536df572-8c09-46ca-a89a-2cc373bfbd97",
   "metadata": {},
   "source": [
    "## 4.列表与元组的方法\n",
    "- 列表方法：append, extend, sort, reverse等。\n",
    "- 元组方法：count, index等（元组不可变，所以没有修改元素的方法）。"
   ]
  },
  {
   "cell_type": "code",
   "execution_count": 78,
   "id": "70404bc9-2c9b-4050-b05a-5466f5b8ffe9",
   "metadata": {},
   "outputs": [
    {
     "name": "stdout",
     "output_type": "stream",
     "text": [
      "[1, 2, 3, 4, 5, 6]\n",
      "[1, 2, 3, 4, 5, 6, 7, 8]\n",
      "[1, 2, 3, 4, 5, 6, 7, 8]\n",
      "[8, 7, 6, 5, 4, 3, 2, 1]\n",
      "1\n",
      "1\n"
     ]
    }
   ],
   "source": [
    "# 列表方法\n",
    "my_list.append(6)  # 添加元素\n",
    "print(my_list)\n",
    "\n",
    "my_list.extend([7, 8])  # 扩展列表\n",
    "print(my_list)\n",
    "\n",
    "my_list.sort()  # 排序\n",
    "print(my_list)\n",
    "\n",
    "my_list.reverse()  # 反转\n",
    "print(my_list)\n",
    "\n",
    "\n",
    "# 元组方法\n",
    "print(my_tuple.count(3))  # 计算元素出现次数\n",
    "print(my_tuple.index(2))  # 查找元素索引"
   ]
  },
  {
   "cell_type": "markdown",
   "id": "bdcfb9f5-4978-4c36-a336-3240ac85700a",
   "metadata": {},
   "source": [
    "## 5.练习：列表和元组的常用操作\n",
    "- 练习创建列表和元组，进行索引、切片、添加、扩展、排序和反转操作。"
   ]
  },
  {
   "cell_type": "code",
   "execution_count": 82,
   "id": "ed028457-b3f9-4103-bf46-aa0a11431213",
   "metadata": {},
   "outputs": [
    {
     "name": "stdout",
     "output_type": "stream",
     "text": [
      "原列表: [10, 20, 30, 40]\n",
      "排序后: [40, 30, 20, 10]\n",
      "添加元素后: [40, 30, 20, 10, 50]\n",
      "原元组: (10, 20, 30, 40, 30)\n",
      "元素30出现次数: 2\n"
     ]
    }
   ],
   "source": [
    "# 练习1：列表操作\n",
    "my_list = [10, 20, 30, 40]\n",
    "print(\"原列表:\", my_list)\n",
    "my_list.sort(reverse=True)  # 降序排序\n",
    "print(\"排序后:\", my_list)\n",
    "my_list.append(50)  # 添加元素\n",
    "print(\"添加元素后:\", my_list)\n",
    "\n",
    "# 练习2：元组操作\n",
    "my_tuple = (10, 20, 30, 40,30)\n",
    "print(\"原元组:\", my_tuple)\n",
    "print(\"元素30出现次数:\", my_tuple.count(30))"
   ]
  },
  {
   "cell_type": "markdown",
   "id": "ef329b46-54ca-4cc6-933f-922529521331",
   "metadata": {},
   "source": [
    "## 作业和实践：\n",
    "### 列表操作练习\n",
    "- 创建一个列表，包含5个字符串元素，然后进行以下操作：\n",
    "- 反转列表。\n",
    "- 计算某个字符串（如\"apple\"）出现的次数（如果不存在返回0）。\n",
    "- 扩展列表，添加3个新的字符串元素。"
   ]
  },
  {
   "cell_type": "code",
   "execution_count": 85,
   "id": "482ec500-38c6-4ead-9f85-0a7ce6986808",
   "metadata": {},
   "outputs": [
    {
     "name": "stdout",
     "output_type": "stream",
     "text": [
      "反转后的列表: ['date', 'cherry', 'apple', 'banana']\n",
      "'apple'出现次数: 1\n",
      "扩展后的列表: ['date', 'cherry', 'apple', 'banana', 'elderberry', 'fig', 'grape']\n"
     ]
    }
   ],
   "source": [
    "fruits = [\"banana\", \"apple\", \"cherry\", \"date\"]\n",
    "fruits.reverse()\n",
    "print(\"反转后的列表:\", fruits)\n",
    "print(\"'apple'出现次数:\", fruits.count(\"apple\"))\n",
    "fruits.extend([\"elderberry\", \"fig\", \"grape\"])\n",
    "print(\"扩展后的列表:\", fruits)"
   ]
  },
  {
   "cell_type": "markdown",
   "id": "f048a1be-efce-4c40-a399-6cd90224957e",
   "metadata": {},
   "source": [
    "### 元组操作练习\n",
    "\n",
    "- 创建一个元组，包含5个整数元素，然后进行以下操作：\n",
    "- 切片获取第二个到第四个元素。\n",
    "- 查找某个元素（如42）的索引（如果不存在返回-1）"
   ]
  },
  {
   "cell_type": "code",
   "execution_count": 88,
   "id": "8323990e-53cc-4531-ad9d-d3b36c17f588",
   "metadata": {},
   "outputs": [
    {
     "name": "stdout",
     "output_type": "stream",
     "text": [
      "切片结果: (20, 42, 50)\n",
      "元素42的索引: 2\n"
     ]
    }
   ],
   "source": [
    "numbers = (10, 20, 42, 50, 60)\n",
    "print(\"切片结果:\", numbers[1:4])\n",
    "print(\"元素42的索引:\", numbers.index(42))"
   ]
  },
  {
   "cell_type": "markdown",
   "id": "bf13b2b7-b3f6-48ee-aa47-f5bee83e8814",
   "metadata": {},
   "source": [
    "# 第3课时：数据结构（字典）\n",
    "- **目标**：掌握Python中字典的基本操作。\n",
    "- **内容**：\n",
    "  1. 字典的定义与特性\n",
    "  2. 字典的键值对操作\n",
    "  3. 字典的方法（keys, values, items, get等）\n",
    "  4. 字典推导式\n",
    "  5. 练习：字典的常用操作\n",
    "\n"
   ]
  },
  {
   "cell_type": "markdown",
   "id": "71203f2a-b77f-45e0-804a-5063639ebb00",
   "metadata": {},
   "source": [
    "## 1.字典的定义与特性\n",
    "\n",
    "- 字典（dict）是可变的，存储键值对。\n",
    "- 键必须是不可变类型，如字符串或数字。\n",
    "- 值可以是任何数据类型。"
   ]
  },
  {
   "cell_type": "code",
   "execution_count": 93,
   "id": "9395476a-5a98-46e3-8a7e-45a0b838a123",
   "metadata": {},
   "outputs": [],
   "source": [
    "# 字典定义\n",
    "my_dict = {'name': 'Kimi', 'age': 30, 'is_student': False}"
   ]
  },
  {
   "cell_type": "markdown",
   "id": "d3e766d7-4d74-4a59-aa06-05286acbd655",
   "metadata": {},
   "source": [
    "## 2.字典的键值对操作\n",
    "\n",
    "- 访问字典中的值。\n",
    "- 修改字典中的值。\n",
    "- 添加和删除键值对。"
   ]
  },
  {
   "cell_type": "code",
   "execution_count": 96,
   "id": "58def394-b2d8-46df-9542-bf164777dde7",
   "metadata": {},
   "outputs": [
    {
     "name": "stdout",
     "output_type": "stream",
     "text": [
      "Kimi\n"
     ]
    }
   ],
   "source": [
    "# 访问值\n",
    "print(my_dict['name'])  # 输出: Kimi\n",
    "\n",
    "# 修改值\n",
    "my_dict['age'] = 31\n",
    "\n",
    "# 添加键值对\n",
    "my_dict['gender'] = 'Male'\n",
    "\n",
    "# 删除键值对\n",
    "del my_dict['is_student']"
   ]
  },
  {
   "cell_type": "markdown",
   "id": "4b9a02cb-3cb8-48b5-a37b-2e4518975276",
   "metadata": {},
   "source": [
    "## 3.字典的方法\n",
    "\n",
    "- keys()：返回字典中所有键的视图。\n",
    "- values()：返回字典中所有值的视图。\n",
    "- items()：返回字典中所有键值对的视图。\n",
    "- get()：根据键返回对应的值，如果键不存在则返回None或指定的默认值。"
   ]
  },
  {
   "cell_type": "code",
   "execution_count": 99,
   "id": "64ed424f-1142-430e-a335-a45eb66bb20a",
   "metadata": {},
   "outputs": [
    {
     "name": "stdout",
     "output_type": "stream",
     "text": [
      "dict_keys(['name', 'age', 'gender'])\n",
      "dict_values(['Kimi', 31, 'Male'])\n",
      "dict_items([('name', 'Kimi'), ('age', 31), ('gender', 'Male')])\n",
      "Kimi\n",
      "Not Specified\n"
     ]
    }
   ],
   "source": [
    "# keys()\n",
    "print(my_dict.keys())  # 输出: dict_keys(['name', 'age', 'gender'])\n",
    "\n",
    "# values()\n",
    "print(my_dict.values())  # 输出: dict_values(['Kimi', 31, 'Male'])\n",
    "\n",
    "# items()\n",
    "print(my_dict.items())  # 输出: dict_items([('name', 'Kimi'), ('age', 31), ('gender', 'Male')])\n",
    "\n",
    "# get()\n",
    "print(my_dict.get('name'))  # 输出: Kimi\n",
    "print(my_dict.get('height', 'Not Specified'))  # 输出: Not Specified"
   ]
  },
  {
   "cell_type": "markdown",
   "id": "4536eb1c-22d4-4b5e-a258-28de8d7a33ce",
   "metadata": {},
   "source": [
    "## 4.字典推导式\n",
    "\n",
    "- 使用字典推导式创建新的字典。"
   ]
  },
  {
   "cell_type": "code",
   "execution_count": 102,
   "id": "03066310-dcba-42b1-9657-ef67adb78a37",
   "metadata": {},
   "outputs": [
    {
     "name": "stdout",
     "output_type": "stream",
     "text": [
      "{1: 1, 2: 4, 3: 9, 4: 16, 5: 25}\n"
     ]
    }
   ],
   "source": [
    "# 字典推导式\n",
    "squares_dict = {x: x**2 for x in range(1, 6)}\n",
    "print(squares_dict)"
   ]
  },
  {
   "cell_type": "markdown",
   "id": "0bf2796f-cadb-4c49-af29-527b4707c0e0",
   "metadata": {},
   "source": [
    "## 5.练习：字典的常用操作\n",
    "\n",
    "- 练习创建字典，进行键值对操作，使用字典方法。"
   ]
  },
  {
   "cell_type": "code",
   "execution_count": 105,
   "id": "c58b4d44-e16e-4569-9b92-9c53143fc170",
   "metadata": {},
   "outputs": [
    {
     "name": "stdout",
     "output_type": "stream",
     "text": [
      "Name: Alice\n",
      "Age: 25\n",
      "name: Alice\n",
      "age: 25\n",
      "{'score1': 10, 'score2': 20, 'score3': 30, 'score4': 40, 'score5': 50}\n"
     ]
    }
   ],
   "source": [
    "# 练习1：创建字典并操作\n",
    "person = {}\n",
    "person['name'] = 'Alice'\n",
    "person['age'] = 25\n",
    "print(\"Name:\", person['name'])\n",
    "print(\"Age:\", person['age'])\n",
    "\n",
    "# 练习2：使用字典方法\n",
    "for key in person:\n",
    "    print(f\"{key}: {person[key]}\")\n",
    "\n",
    "# 练习3：字典推导式\n",
    "scores = {f'score{i}': i * 10 for i in range(1, 6)}\n",
    "print(scores)"
   ]
  },
  {
   "cell_type": "markdown",
   "id": "7340bb9a-e768-430a-9239-945e2c4cd8b0",
   "metadata": {},
   "source": [
    "## 作业和实践：\n",
    "### 字典操作练习\n",
    "\n",
    "- 创建一个字典，包含学生的姓名和成绩，然后进行以下操作：\n",
    "- 修改一个学生的成绩。\n",
    "- 添加一个新学生的信息。\n",
    "- 删除一个学生的信息。\n",
    "- 使用get方法获取一个学生的成绩。"
   ]
  },
  {
   "cell_type": "code",
   "execution_count": 108,
   "id": "59adafdb-001d-43b8-bee2-e3ef86db6bb1",
   "metadata": {},
   "outputs": [
    {
     "name": "stdout",
     "output_type": "stream",
     "text": [
      "Bob's score: 90\n"
     ]
    }
   ],
   "source": [
    "students = {'Alice': 85, 'Bob': 90, 'Charlie': 78}\n",
    "\n",
    "# 修改成绩\n",
    "students['Alice'] = 90\n",
    "\n",
    "# 添加学生\n",
    "students['David'] = 88\n",
    "\n",
    "# 删除学生\n",
    "del students['Charlie']\n",
    "\n",
    "# 获取成绩\n",
    "print(\"Bob's score:\", students.get('Bob', 'No record'))"
   ]
  },
  {
   "cell_type": "markdown",
   "id": "38d5ba30-6bd2-4a0c-8211-b46d680bf676",
   "metadata": {},
   "source": [
    "### 字典推导式练习\n",
    "\n",
    "使用字典推导式，根据一个列表中的元素创建一个新的字典，其中键为元素本身，值为元素的两倍。"
   ]
  },
  {
   "cell_type": "code",
   "execution_count": 111,
   "id": "26c993cc-b83b-4f07-9ce7-90a90780caa5",
   "metadata": {},
   "outputs": [
    {
     "name": "stdout",
     "output_type": "stream",
     "text": [
      "{'H': 'HH', 'He': 'HeHe', 'Li': 'LiLi', 'Be': 'BeBe'}\n"
     ]
    }
   ],
   "source": [
    "elements = ['H', 'He', 'Li', 'Be']\n",
    "elements_dict = {elem: elem * 2 for elem in elements}\n",
    "print(elements_dict)"
   ]
  },
  {
   "cell_type": "markdown",
   "id": "622a0321-dada-42a2-bf59-5bcd5eedde24",
   "metadata": {},
   "source": [
    "### 组合Key与Value\n",
    "有一个Keys的数组，和一个values的数组，如何组合成一个key-value的dict"
   ]
  },
  {
   "cell_type": "code",
   "execution_count": null,
   "id": "9c8c0369-fefe-425d-a56a-e94b418e3e90",
   "metadata": {},
   "outputs": [],
   "source": [
    "# 假设我们有两个数组\n",
    "keys = ['name', 'age', 'gender']\n",
    "values = ['Kimi', 30, 'Male']\n",
    "\n",
    "# 使用zip()函数将keys和values组合成元组列表，然后转换成字典\n",
    "my_dict = dict(zip(keys, values))\n",
    "\n",
    "# 打印结果\n",
    "print(my_dict)"
   ]
  },
  {
   "cell_type": "markdown",
   "id": "50a64989-6dc1-4815-896a-85b9c186ef4b",
   "metadata": {},
   "source": [
    "如果你有两个数组，一个包含键（keys），另一个包含值（values），并且它们的长度相同，你可以使用Python的内置函数zip()来将它们组合成一个字典。zip()函数可以将多个可迭代对象“压缩”成一个元组列表，然后你可以使用dict()函数将这个元组列表转换成字典。"
   ]
  },
  {
   "cell_type": "markdown",
   "id": "2274b0be-4646-4aa1-84b0-8da3047ea513",
   "metadata": {},
   "source": [
    "# 第4课时：数据结构（集合、字符串）\n",
    "- **目标**：掌握Python中集合和字符串的基本操作。\n",
    "- **内容**：\n",
    "  1. 集合的定义与特性\n",
    "  2. 集合的操作（add, remove, union, intersection等）\n",
    "  3. 字符串的定义与特性\n",
    "  4. 字符串的方法（find, replace, split, join等）\n",
    "  5. 练习：集合和字符串的常用操作\n",
    "\n"
   ]
  },
  {
   "cell_type": "markdown",
   "id": "875bbf90-8150-4742-b17f-c31a2065e1fc",
   "metadata": {},
   "source": [
    "## 1.集合的定义与特性\n",
    "\n",
    "- 集合（set）是一个无序的不重复元素集。\n",
    "- 集合是可变的，可以添加或删除元素。"
   ]
  },
  {
   "cell_type": "code",
   "execution_count": 116,
   "id": "889eda2a-c8ac-469b-945f-a3728429dff1",
   "metadata": {},
   "outputs": [],
   "source": [
    "# 集合定义\n",
    "my_set = {1, 2, 3, 4, 5}"
   ]
  },
  {
   "cell_type": "markdown",
   "id": "5930204f-92b8-442b-a2cd-7efc744c21a5",
   "metadata": {},
   "source": [
    "## 2.集合的操作\n",
    "\n",
    "- add：添加元素。\n",
    "- remove：删除元素，如果元素不存在会抛出 KeyError。\n",
    "- union：返回两个集合的并集。\n",
    "- intersection：返回两个集合的交集。\n",
    "- difference：返回两个集合的差集。"
   ]
  },
  {
   "cell_type": "code",
   "execution_count": 119,
   "id": "fe8ffa5b-69f1-4c86-9f42-bc0ef4596e49",
   "metadata": {},
   "outputs": [
    {
     "name": "stdout",
     "output_type": "stream",
     "text": [
      "{1, 2, 3, 4, 5, 6}\n",
      "{1, 2, 4, 5, 6}\n",
      "{1, 2, 3, 4, 5}\n",
      "{3}\n",
      "{1, 2}\n"
     ]
    }
   ],
   "source": [
    "# 添加元素\n",
    "my_set.add(6)\n",
    "print(my_set)  # 输出: {1, 2, 3, 4, 5, 6}\n",
    "\n",
    "# 删除元素\n",
    "my_set.remove(3)\n",
    "print(my_set)  # 输出: {1, 2, 4, 5, 6}\n",
    "\n",
    "# 集合运算\n",
    "set1 = {1, 2, 3}\n",
    "set2 = {3, 4, 5}\n",
    "print(set1.union(set2))  # 输出: {1, 2, 3, 4, 5}\n",
    "print(set1.intersection(set2))  # 输出: {3}\n",
    "print(set1.difference(set2))  # 输出: {1, 2}"
   ]
  },
  {
   "cell_type": "markdown",
   "id": "3ca21982-e3ed-4307-b59b-0ca5632eb469",
   "metadata": {},
   "source": [
    "## 3.字符串的定义与特性\n",
    "\n",
    "- 字符串（str）是字符的序列。\n",
    "- 字符串是不可变的。"
   ]
  },
  {
   "cell_type": "code",
   "execution_count": 122,
   "id": "c31495ae-fc12-43c4-9202-3c2d5329a936",
   "metadata": {},
   "outputs": [],
   "source": [
    "# 字符串定义\n",
    "my_string = \"Hello, World!\""
   ]
  },
  {
   "cell_type": "markdown",
   "id": "e8152da3-2e09-49e2-9c68-136f66f71eb5",
   "metadata": {},
   "source": [
    "## 4.字符串的方法\n",
    "\n",
    "- find：查找子字符串，如果找到返回索引，否则返回-1。\n",
    "- replace：替换字符串中的子字符串。\n",
    "- split：分割字符串。\n",
    "- join：将序列中的元素连接成字符串。"
   ]
  },
  {
   "cell_type": "code",
   "execution_count": 125,
   "id": "ddae4d3c-d885-45d2-807b-043720d22fbe",
   "metadata": {},
   "outputs": [
    {
     "name": "stdout",
     "output_type": "stream",
     "text": [
      "7\n",
      "Hello, Python!\n",
      "['Hello', 'World!']\n",
      "Hello World!\n"
     ]
    }
   ],
   "source": [
    "# 查找子字符串\n",
    "print(my_string.find(\"World\"))  # 输出: 7\n",
    "\n",
    "# 替换子字符串\n",
    "new_string = my_string.replace(\"World\", \"Python\")\n",
    "print(new_string)  # 输出: Hello, Python!\n",
    "\n",
    "# 分割字符串\n",
    "words = my_string.split(\", \")\n",
    "print(words)  # 输出: ['Hello', 'World!']\n",
    "\n",
    "# 连接字符串\n",
    "sentence = \" \".join(words)\n",
    "print(sentence)  # 输出: Hello World!"
   ]
  },
  {
   "cell_type": "markdown",
   "id": "3dd58c72-2c3b-4c90-ac5c-2f836150fc02",
   "metadata": {},
   "source": [
    "## 5.练习：集合和字符串的常用操作\n",
    "\n",
    "- 练习创建集合，进行基本的添加、删除和集合运算。\n",
    "- 练习创建字符串，进行查找、替换、分割和连接操作。"
   ]
  },
  {
   "cell_type": "code",
   "execution_count": 128,
   "id": "7fb1394e-5a3c-4052-8162-9aa88f87fad0",
   "metadata": {},
   "outputs": [
    {
     "name": "stdout",
     "output_type": "stream",
     "text": [
      "添加元素后的集合: {1, 2, 3, 4, 5}\n",
      "删除元素后的集合: {1, 3, 4, 5}\n",
      "两个集合的并集: {1, 3, 4, 5, 6}\n",
      "两个集合的交集: {4, 5}\n",
      "原字符串: hello world, hello python\n",
      "'hello'的第一次出现位置: 0\n",
      "替换'hello'为'hi': hi world, hello python\n",
      "分割字符串: ['hello world', 'hello python']\n",
      "连接字符串: hello world hello python\n"
     ]
    }
   ],
   "source": [
    "# 练习1：集合操作\n",
    "my_set = {1, 2, 3, 4}\n",
    "my_set.add(5)\n",
    "print(\"添加元素后的集合:\", my_set)\n",
    "my_set.remove(2)\n",
    "print(\"删除元素后的集合:\", my_set)\n",
    "another_set = {4, 5, 6}\n",
    "print(\"两个集合的并集:\", my_set.union(another_set))\n",
    "print(\"两个集合的交集:\", my_set.intersection(another_set))\n",
    "\n",
    "# 练习2：字符串操作\n",
    "my_string = \"hello world, hello python\"\n",
    "print(\"原字符串:\", my_string)\n",
    "print(\"'hello'的第一次出现位置:\", my_string.find(\"hello\"))\n",
    "print(\"替换'hello'为'hi':\", my_string.replace(\"hello\", \"hi\", 1))\n",
    "print(\"分割字符串:\", my_string.split(\", \"))\n",
    "print(\"连接字符串:\", \" \".join(my_string.split(\", \")))"
   ]
  },
  {
   "cell_type": "markdown",
   "id": "4c9ee53a-98f7-41a8-bbba-f54f594530d5",
   "metadata": {},
   "source": [
    "## 作业和实践：\n",
    "### 集合操作练习\n",
    "\n",
    "- 创建两个集合，进行并集、交集和差集操作，并打印结果。"
   ]
  },
  {
   "cell_type": "code",
   "execution_count": 131,
   "id": "ab88fae6-1a2c-45d5-8733-749c56746680",
   "metadata": {},
   "outputs": [
    {
     "name": "stdout",
     "output_type": "stream",
     "text": [
      "集合A和集合B的并集: {1, 2, 3, 4, 5, 6}\n",
      "集合A和集合B的交集: {3, 4}\n",
      "集合A和集合B的差集: {1, 2}\n"
     ]
    }
   ],
   "source": [
    "set_a = {1, 2, 3, 4}\n",
    "set_b = {3, 4, 5, 6}\n",
    "print(\"集合A和集合B的并集:\", set_a.union(set_b))\n",
    "print(\"集合A和集合B的交集:\", set_a.intersection(set_b))\n",
    "print(\"集合A和集合B的差集:\", set_a.difference(set_b))"
   ]
  },
  {
   "cell_type": "markdown",
   "id": "40cca1cd-a0da-4434-8463-9dd244b9dd91",
   "metadata": {},
   "source": [
    "### 字符串操作练习\n",
    "\n",
    "- 创建一个字符串，进行查找、替换、分割和连接操作，并打印结果。"
   ]
  },
  {
   "cell_type": "code",
   "execution_count": 134,
   "id": "a95e3a5f-ea45-4a7a-aa0d-ab0a73978427",
   "metadata": {},
   "outputs": [
    {
     "name": "stdout",
     "output_type": "stream",
     "text": [
      "原字符串: Python is great, Python is powerful\n",
      "'Python'的第一次出现位置: 0\n",
      "替换'great'为'awesome': Python is awesome, Python is powerful\n",
      "分割字符串: ['Python is great', 'Python is powerful']\n",
      "连接字符串: Python is great Python is powerful\n"
     ]
    }
   ],
   "source": [
    "text = \"Python is great, Python is powerful\"\n",
    "print(\"原字符串:\", text)\n",
    "print(\"'Python'的第一次出现位置:\", text.find(\"Python\"))\n",
    "print(\"替换'great'为'awesome':\", text.replace(\"great\", \"awesome\"))\n",
    "print(\"分割字符串:\", text.split(\", \"))\n",
    "print(\"连接字符串:\", \" \".join(text.split(\", \")))"
   ]
  },
  {
   "cell_type": "markdown",
   "id": "8cb8481b-05da-4cac-bb9a-c17284619667",
   "metadata": {},
   "source": [
    "# 第5课时：面向对象编程\n",
    "- **目标**：理解面向对象编程的概念，并能够使用Python实现。\n",
    "- **内容**：\n",
    "  1. 类和对象的概念\n",
    "  2. 类的定义和对象的创建\n",
    "  3. 属性和方法\n",
    "  4. 继承和多态\n",
    "  5. 练习：创建一个简单的类并实现继承\n",
    "\n"
   ]
  },
  {
   "cell_type": "markdown",
   "id": "aceb7a26-e4ff-4676-8efd-a8c019b43dd7",
   "metadata": {},
   "source": [
    "## 1.类和对象的概念\n",
    "\n",
    "- 类是对象的蓝图，对象是类的实例。\n",
    "- 类封装了数据和操作数据的方法。"
   ]
  },
  {
   "cell_type": "code",
   "execution_count": 137,
   "id": "f01c2ef2-4e58-4edd-8517-511bfb14c2b9",
   "metadata": {},
   "outputs": [],
   "source": [
    "# 定义一个类\n",
    "class Dog:\n",
    "    pass\n",
    "\n",
    "# 创建对象\n",
    "my_dog = Dog()"
   ]
  },
  {
   "cell_type": "markdown",
   "id": "56eba7d7-b374-4213-a978-53527d7ac09d",
   "metadata": {},
   "source": [
    "## 2.类的定义和对象的创建\n",
    "\n",
    "- 使用class关键字定义类。\n",
    "- 使用类名创建对象。"
   ]
  },
  {
   "cell_type": "code",
   "execution_count": 140,
   "id": "ae37b580-cc8a-4d31-8445-8224e310670a",
   "metadata": {},
   "outputs": [
    {
     "name": "stdout",
     "output_type": "stream",
     "text": [
      "Buddy\n",
      "3\n"
     ]
    }
   ],
   "source": [
    "# 定义一个类\n",
    "class Dog:\n",
    "    def __init__(self, name, age):  # 构造函数\n",
    "        self.name = name  # 实例变量\n",
    "        self.age = age\n",
    "\n",
    "# 创建对象\n",
    "my_dog = Dog(\"Buddy\", 3)\n",
    "print(my_dog.name)  # 输出: Buddy\n",
    "print(my_dog.age)   # 输出: 3"
   ]
  },
  {
   "cell_type": "markdown",
   "id": "e82ba0fa-32bc-44e0-9cd3-9aef6905c624",
   "metadata": {},
   "source": [
    "## 3.属性和方法\n",
    "\n",
    "- 属性是类的状态变量，方法操作数据。"
   ]
  },
  {
   "cell_type": "code",
   "execution_count": 143,
   "id": "08d6860c-b20f-43a0-ad1d-1b9278d86f67",
   "metadata": {},
   "outputs": [
    {
     "name": "stdout",
     "output_type": "stream",
     "text": [
      "Woof!\n"
     ]
    }
   ],
   "source": [
    "# 定义一个类\n",
    "class Dog:\n",
    "    def __init__(self, name, age):\n",
    "        self.name = name\n",
    "        self.age = age\n",
    "\n",
    "    def bark(self):  # 方法\n",
    "        print(\"Woof!\")\n",
    "\n",
    "# 创建对象\n",
    "my_dog = Dog(\"Buddy\", 3)\n",
    "my_dog.bark()  # 输出: Woof!"
   ]
  },
  {
   "cell_type": "markdown",
   "id": "42e5d7cc-3d88-4aab-ba99-2395ee550611",
   "metadata": {},
   "source": [
    "## 4.继承和多态\n",
    "\n",
    "- 继承允许一个类继承另一个类的属性和方法。\n",
    "- 多态允许不同的对象对同一消息做出响应。"
   ]
  },
  {
   "cell_type": "code",
   "execution_count": 146,
   "id": "22450c4b-f495-4023-98c2-201c0a9fe5dc",
   "metadata": {},
   "outputs": [
    {
     "name": "stdout",
     "output_type": "stream",
     "text": [
      "Buddy says Woof!\n"
     ]
    }
   ],
   "source": [
    "# 定义基类\n",
    "class Animal:\n",
    "    def __init__(self, name):\n",
    "        self.name = name\n",
    "\n",
    "    def speak(self):\n",
    "        pass  # 基类中的方法\n",
    "\n",
    "# 定义派生类\n",
    "class Dog(Animal):  # 继承Animal\n",
    "    def speak(self):  # 重写基类方法\n",
    "        print(f\"{self.name} says Woof!\")\n",
    "\n",
    "# 创建对象\n",
    "my_dog = Dog(\"Buddy\")\n",
    "my_dog.speak()  # 输出: Buddy says Woof!"
   ]
  },
  {
   "cell_type": "markdown",
   "id": "90b84636-edc9-4f3d-9f7e-3b0cd743fccf",
   "metadata": {},
   "source": [
    "## 5.练习：创建一个简单的类并实现继承\n",
    "\n",
    "- 练习定义一个基类和派生类，实现继承。"
   ]
  },
  {
   "cell_type": "code",
   "execution_count": 149,
   "id": "d3ed4872-a3ef-4aee-8e4f-d7702670bf02",
   "metadata": {},
   "outputs": [
    {
     "name": "stdout",
     "output_type": "stream",
     "text": [
      "Car started.\n"
     ]
    }
   ],
   "source": [
    "# 定义基类\n",
    "class Vehicle:\n",
    "    def __init__(self, brand):\n",
    "        self.brand = brand\n",
    "\n",
    "    def start(self):\n",
    "        print(\"Vehicle started.\")\n",
    "\n",
    "# 定义派生类\n",
    "class Car(Vehicle):  # 继承Vehicle\n",
    "    def start(self):  # 重写基类方法\n",
    "        print(\"Car started.\")\n",
    "\n",
    "# 创建对象\n",
    "my_car = Car(\"Toyota\")\n",
    "my_car.start()  # 输出: Car started."
   ]
  },
  {
   "cell_type": "markdown",
   "id": "96fd93ed-33dd-4337-90bf-3ecf7a049040",
   "metadata": {},
   "source": [
    "## 作业和实践：\n",
    "### 定义一个类并创建对象\n",
    "\n",
    "- 定义一个Student类，包含name和grade属性，以及一个study方法。\n",
    "- 创建一个Student对象，并调用study方法。"
   ]
  },
  {
   "cell_type": "code",
   "execution_count": 152,
   "id": "3d907da2-28b1-4805-9f44-7c2986cc08c8",
   "metadata": {},
   "outputs": [
    {
     "name": "stdout",
     "output_type": "stream",
     "text": [
      "Alice is studying for the 10th grade.\n"
     ]
    }
   ],
   "source": [
    "class Student:\n",
    "    def __init__(self, name, grade):\n",
    "        self.name = name\n",
    "        self.grade = grade\n",
    "\n",
    "    def study(self):\n",
    "        print(f\"{self.name} is studying for the {self.grade}th grade.\")\n",
    "\n",
    "# 创建对象\n",
    "student1 = Student(\"Alice\", 10)\n",
    "student1.study()  # 输出: Alice is studying for the 10th grade."
   ]
  },
  {
   "cell_type": "markdown",
   "id": "0fc37615-b337-4ee9-9cb2-415c5cd1356b",
   "metadata": {},
   "source": [
    "### 实现继承\n",
    "\n",
    "- 定义一个Vehicle基类，包含start方法。\n",
    "- 定义一个Car派生类，继承Vehicle类，并重写start方法。\n",
    "- 创建一个Car对象，并调用start方法。"
   ]
  },
  {
   "cell_type": "code",
   "execution_count": 155,
   "id": "68c9ade5-ea80-4277-b302-ca15c74b88a2",
   "metadata": {},
   "outputs": [
    {
     "name": "stdout",
     "output_type": "stream",
     "text": [
      "Car engine is starting.\n"
     ]
    }
   ],
   "source": [
    "class Vehicle:\n",
    "    def start(self):\n",
    "        print(\"Vehicle is starting.\")\n",
    "\n",
    "class Car(Vehicle):\n",
    "    def start(self):\n",
    "        print(\"Car engine is starting.\")\n",
    "\n",
    "# 创建对象\n",
    "my_car = Car()\n",
    "my_car.start()  # 输出: Car engine is starting."
   ]
  },
  {
   "cell_type": "markdown",
   "id": "4510d07a-e280-4429-b3bd-3eea07101630",
   "metadata": {},
   "source": [
    "# 第6课时：文件操作和异常处理\n",
    "- **目标**：掌握文件的基本操作和异常处理机制。\n",
    "- **内容**：\n",
    "  1. 文件的打开、读取、写入和关闭\n",
    "  2. 异常的概念和基本使用\n",
    "  3. 异常的捕获和处理\n",
    "  4. 练习：文件读写和异常处理\n",
    "\n"
   ]
  },
  {
   "cell_type": "markdown",
   "id": "d61954a6-bf5a-407a-b6f6-879da458485a",
   "metadata": {},
   "source": [
    "## 1.文件的打开、读取、写入和关闭\n",
    "\n",
    "- 使用open()函数打开文件，read()、write()等方法进行文件操作，close()方法关闭文件。"
   ]
  },
  {
   "cell_type": "code",
   "execution_count": 158,
   "id": "f6b15d00-738c-4cb5-9bda-4c89b642cfc8",
   "metadata": {},
   "outputs": [
    {
     "name": "stdout",
     "output_type": "stream",
     "text": [
      "Hello, World!\n"
     ]
    }
   ],
   "source": [
    "# 文件打开和写入\n",
    "with open('example.txt', 'w') as file:\n",
    "    file.write(\"Hello, World!\")\n",
    "\n",
    "# 文件打开和读取\n",
    "with open('example.txt', 'r') as file:\n",
    "    content = file.read()\n",
    "    print(content)  # 输出: Hello, World!"
   ]
  },
  {
   "cell_type": "markdown",
   "id": "b5e719b2-968c-4333-ac1a-851177ae3aa6",
   "metadata": {},
   "source": [
    "## 2.异常的概念和基本使用\n",
    "\n",
    "- 异常是程序运行时发生的错误，Python允许我们捕获和处理这些错误。"
   ]
  },
  {
   "cell_type": "code",
   "execution_count": 161,
   "id": "15290335-2621-4930-b7d5-d847da483de6",
   "metadata": {},
   "outputs": [
    {
     "name": "stdout",
     "output_type": "stream",
     "text": [
      "You can't divide by zero!\n"
     ]
    }
   ],
   "source": [
    "try:\n",
    "    # 尝试执行的代码\n",
    "    result = 10 / 0\n",
    "except ZeroDivisionError:\n",
    "    # 如果发生了ZeroDivisionError，则执行这里的代码\n",
    "    print(\"You can't divide by zero!\")"
   ]
  },
  {
   "cell_type": "markdown",
   "id": "f4f0ce35-d650-472b-b223-6a410a3bf647",
   "metadata": {},
   "source": [
    "## 3.异常的捕获和处理\n",
    "\n",
    "使用try和except块捕获和处理异常。\n",
    "可以捕获多种类型的异常，并进行相应的处理。"
   ]
  },
  {
   "cell_type": "code",
   "execution_count": 163,
   "id": "f9ca17b8-528e-4167-8994-a3ddfc9ee2da",
   "metadata": {},
   "outputs": [
    {
     "name": "stdout",
     "output_type": "stream",
     "text": [
      "The file does not exist.\n"
     ]
    }
   ],
   "source": [
    "try:\n",
    "    with open('non_existent_file.txt', 'r') as file:\n",
    "        content = file.read()\n",
    "except FileNotFoundError:\n",
    "    print(\"The file does not exist.\")\n",
    "except Exception as e:\n",
    "    print(f\"An error occurred: {e}\")"
   ]
  },
  {
   "cell_type": "markdown",
   "id": "6e39a056-83b3-44b5-ac9b-8ff4b0ad2866",
   "metadata": {},
   "source": [
    "## 4.练习：文件读写和异常处理\n",
    "\n",
    "练习文件的读写操作，并添加异常处理。"
   ]
  },
  {
   "cell_type": "code",
   "execution_count": 167,
   "id": "f8863ec7-6678-4028-b349-49ffdbcb0ab7",
   "metadata": {},
   "outputs": [
    {
     "name": "stdout",
     "output_type": "stream",
     "text": [
      "Hello, World!\n"
     ]
    }
   ],
   "source": [
    "# 练习1：文件写入\n",
    "try:\n",
    "    with open('greeting.txt', 'w') as file:\n",
    "        file.write(\"Hello, World!\")\n",
    "except IOError as e:\n",
    "    print(f\"An I/O error occurred: {e}\")\n",
    "\n",
    "# 练习2：文件读取\n",
    "try:\n",
    "    with open('greeting.txt', 'r') as file:\n",
    "        content = file.read()\n",
    "        print(content)\n",
    "except FileNotFoundError:\n",
    "    print(\"The file was not found.\")\n",
    "except Exception as e:\n",
    "    print(f\"An error occurred: {e}\")"
   ]
  },
  {
   "cell_type": "markdown",
   "id": "9c4bac0f-7fd3-4004-a3e7-70d5735f668e",
   "metadata": {},
   "source": [
    "## 作业和实践：\n",
    "### 文件操作练习\n",
    "\n",
    "编写一个程序，将用户输入的内容写入到一个文件中，并读取显示。"
   ]
  },
  {
   "cell_type": "code",
   "execution_count": 170,
   "id": "103f67aa-3363-42d6-aab5-65be199ad4f2",
   "metadata": {},
   "outputs": [
    {
     "name": "stdin",
     "output_type": "stream",
     "text": [
      "Enter something to write to a file:  abcde\n"
     ]
    },
    {
     "name": "stdout",
     "output_type": "stream",
     "text": [
      "You wrote: abcde\n"
     ]
    }
   ],
   "source": [
    "user_input = input(\"Enter something to write to a file: \")\n",
    "try:\n",
    "    with open('user_input.txt', 'w') as file:\n",
    "        file.write(user_input)\n",
    "    with open('user_input.txt', 'r') as file:\n",
    "        print(\"You wrote:\", file.read())\n",
    "except Exception as e:\n",
    "    print(f\"An error occurred: {e}\")"
   ]
  },
  {
   "cell_type": "markdown",
   "id": "12e29e19-2b03-4734-b731-0a4e533d5e08",
   "metadata": {},
   "source": [
    "### 异常处理练习\n",
    "\n",
    "编写一个程序，尝试将用户输入的字符串转换为整数，并处理可能的异常。"
   ]
  },
  {
   "cell_type": "code",
   "execution_count": 173,
   "id": "4ffa381e-1bc8-4abf-b859-fc35a8eb7e35",
   "metadata": {},
   "outputs": [
    {
     "name": "stdin",
     "output_type": "stream",
     "text": [
      "Enter an integer:  23\n"
     ]
    },
    {
     "name": "stdout",
     "output_type": "stream",
     "text": [
      "You entered the integer 23.\n"
     ]
    }
   ],
   "source": [
    "try:\n",
    "    number = int(input(\"Enter an integer: \"))\n",
    "    print(f\"You entered the integer {number}.\")\n",
    "except ValueError:\n",
    "    print(\"That's not an integer!\")\n",
    "except Exception as e:\n",
    "    print(f\"An unexpected error occurred: {e}\")"
   ]
  },
  {
   "cell_type": "markdown",
   "id": "91056222-109b-4d0d-b517-e224e0258f4f",
   "metadata": {},
   "source": [
    "# 第7课时：Python高级特性\n",
    "- **目标**：了解Python的高级特性，如装饰器、生成器、上下文管理器等。\n",
    "- **内容**：\n",
    "  1. 装饰器的概念和使用\n",
    "  2. 生成器和迭代器\n",
    "  3. 上下文管理器\n",
    "  4. 练习：使用装饰器和生成器编写代码\n",
    "\n"
   ]
  },
  {
   "cell_type": "markdown",
   "id": "6e87f7fc-b64b-43ba-a271-6e9b46bb8f00",
   "metadata": {},
   "source": [
    "## 1.装饰器的概念和使用\n",
    "\n",
    "- 装饰器是一种设计模式，用于在不修改原有函数代码的情况下，增加函数的新功能。\n",
    "- 使用@语法糖应用装饰器。"
   ]
  },
  {
   "cell_type": "code",
   "execution_count": 175,
   "id": "a1e40614-c224-40e4-a897-8f1d27de555b",
   "metadata": {},
   "outputs": [
    {
     "name": "stdout",
     "output_type": "stream",
     "text": [
      "Something is happening before the function is called.\n",
      "Hello!\n",
      "Something is happening after the function is called.\n"
     ]
    }
   ],
   "source": [
    "# 定义一个装饰器\n",
    "def my_decorator(func):\n",
    "    def wrapper():\n",
    "        print(\"Something is happening before the function is called.\")\n",
    "        func()\n",
    "        print(\"Something is happening after the function is called.\")\n",
    "    return wrapper\n",
    "\n",
    "# 使用装饰器\n",
    "@my_decorator\n",
    "def say_hello():\n",
    "    print(\"Hello!\")\n",
    "\n",
    "say_hello()"
   ]
  },
  {
   "cell_type": "markdown",
   "id": "cdecacf0-d55b-4571-89b0-323b352ebb2c",
   "metadata": {},
   "source": [
    "## 2.生成器和迭代器\n",
    "\n",
    "生成器是一种使用yield关键字的函数，每次产生一个序列中的值。\n",
    "迭代器是实现了__iter__()和__next__()方法的对象。"
   ]
  },
  {
   "cell_type": "code",
   "execution_count": 178,
   "id": "ed3b6577-2b48-44af-8836-a52444f53523",
   "metadata": {},
   "outputs": [
    {
     "name": "stdout",
     "output_type": "stream",
     "text": [
      "1\n",
      "2\n",
      "3\n"
     ]
    }
   ],
   "source": [
    "# 定义一个生成器\n",
    "def count_up_to(max):\n",
    "    n = 1\n",
    "    while n <= max:\n",
    "        yield n\n",
    "        n += 1\n",
    "\n",
    "# 使用生成器\n",
    "counter = count_up_to(3)\n",
    "for number in counter:\n",
    "    print(number)"
   ]
  },
  {
   "cell_type": "markdown",
   "id": "353cc89e-98ff-4af3-ad63-127083dbcd75",
   "metadata": {},
   "source": [
    "## 3.上下文管理器\n",
    "\n",
    "- 上下文管理器允许我们定义一个运行时上下文，确保代码在进入和退出时运行。\n",
    "- 使用with语句和__enter__()、__exit__()方法实现"
   ]
  },
  {
   "cell_type": "code",
   "execution_count": 181,
   "id": "0b0f4744-061c-48ba-a413-281f79ba0250",
   "metadata": {},
   "outputs": [
    {
     "name": "stdout",
     "output_type": "stream",
     "text": [
      "Entering the context.\n",
      "Inside the context.\n",
      "Exiting the context.\n"
     ]
    }
   ],
   "source": [
    "# 定义一个上下文管理器\n",
    "class MyContextManager:\n",
    "    def __enter__(self):\n",
    "        print(\"Entering the context.\")\n",
    "        return self\n",
    "    def __exit__(self, exc_type, exc_value, traceback):\n",
    "        print(\"Exiting the context.\")\n",
    "\n",
    "# 使用上下文管理器\n",
    "with MyContextManager() as manager:\n",
    "    print(\"Inside the context.\")"
   ]
  },
  {
   "cell_type": "code",
   "execution_count": null,
   "id": "e4be06fe-7c4f-4908-949d-1bca50260ac0",
   "metadata": {},
   "outputs": [],
   "source": [
    "## 4.练习：使用装饰器和生成器编写代码\n",
    "\n",
    "- 练习编写装饰器，用于计时函数执行时间。\n",
    "- 练习编写生成器，用于创建斐波那契数列。"
   ]
  },
  {
   "cell_type": "code",
   "execution_count": 183,
   "id": "6db1de7d-9f3e-44f7-821c-6790b0d319b0",
   "metadata": {},
   "outputs": [
    {
     "name": "stdout",
     "output_type": "stream",
     "text": [
      "waste_time took 2.001546859741211 seconds to execute.\n",
      "0\n",
      "1\n",
      "1\n",
      "2\n",
      "3\n",
      "5\n",
      "8\n",
      "13\n",
      "21\n",
      "34\n"
     ]
    }
   ],
   "source": [
    "# 练习1：装饰器 - 计时函数执行时间\n",
    "import time\n",
    "\n",
    "def timer(func):\n",
    "    def wrapper(*args, **kwargs):\n",
    "        start_time = time.time()\n",
    "        result = func(*args, **kwargs)\n",
    "        end_time = time.time()\n",
    "        print(f\"{func.__name__} took {end_time - start_time} seconds to execute.\")\n",
    "        return result\n",
    "    return wrapper\n",
    "\n",
    "@timer\n",
    "def waste_time(seconds):\n",
    "    time.sleep(seconds)\n",
    "\n",
    "waste_time(2)\n",
    "\n",
    "# 练习2：生成器 - 斐波那契数列\n",
    "def fibonacci(n):\n",
    "    a, b = 0, 1\n",
    "    for _ in range(n):\n",
    "        yield a\n",
    "        a, b = b, a + b\n",
    "\n",
    "fib_sequence = fibonacci(10)\n",
    "for num in fib_sequence:\n",
    "    print(num)"
   ]
  },
  {
   "cell_type": "markdown",
   "id": "cdcea1b6-3233-4dec-98dc-5387c4f0ba71",
   "metadata": {},
   "source": [
    "## 作业和实践：\n",
    "### 装饰器练习\n",
    "\n",
    "编写一个装饰器，用于检查函数参数是否为正数，并在不是正数时抛出异常。"
   ]
  },
  {
   "cell_type": "code",
   "execution_count": 186,
   "id": "74ef6088-c1d4-4c3d-9ab8-8b3035356700",
   "metadata": {},
   "outputs": [
    {
     "name": "stdout",
     "output_type": "stream",
     "text": [
      "7\n",
      "Argument must be a positive number.\n"
     ]
    }
   ],
   "source": [
    "def check_positive_number(func):\n",
    "    def wrapper(*args):\n",
    "        for arg in args:\n",
    "            if arg <= 0:\n",
    "                raise ValueError(\"Argument must be a positive number.\")\n",
    "        return func(*args)\n",
    "    return wrapper\n",
    "\n",
    "@check_positive_number\n",
    "def add(a, b):\n",
    "    return a + b\n",
    "\n",
    "# 测试装饰器\n",
    "try:\n",
    "    print(add(3, 4))\n",
    "    print(add(-1, 4))\n",
    "except ValueError as e:\n",
    "    print(e)"
   ]
  },
  {
   "cell_type": "markdown",
   "id": "ad0bc6ea-a612-4513-8048-dfa6df45c2ce",
   "metadata": {},
   "source": [
    "### 生成器练习\n",
    "\n",
    "编写一个生成器，用于实现一个简单的斐波那契数列迭代器。"
   ]
  },
  {
   "cell_type": "code",
   "execution_count": 189,
   "id": "de90d1fb-1a4b-4c33-be9c-402e5ab7fee2",
   "metadata": {},
   "outputs": [
    {
     "name": "stdout",
     "output_type": "stream",
     "text": [
      "0\n",
      "1\n",
      "1\n",
      "2\n",
      "3\n",
      "5\n",
      "8\n",
      "13\n",
      "21\n",
      "34\n"
     ]
    }
   ],
   "source": [
    "def fibonacci_generator(n):\n",
    "    a, b = 0, 1\n",
    "    count = 0\n",
    "    while count < n:\n",
    "        yield a\n",
    "        a, b = b, a + b\n",
    "        count += 1\n",
    "\n",
    "# 使用生成器\n",
    "fib_gen = fibonacci_generator(10)\n",
    "for val in fib_gen:\n",
    "    print(val)"
   ]
  },
  {
   "cell_type": "markdown",
   "id": "49f8e6ff-8368-4949-858a-fa91b3ecf97a",
   "metadata": {},
   "source": [
    "# 第8课时：测试和调试、标准库概览\n",
    "- **目标**：掌握Python的测试和调试技巧，了解标准库的使用。\n",
    "- **内容**：\n",
    "  1. 测试的概念和基本方法\n",
    "  2. 调试工具的使用（如pdb）\n",
    "  3. Python标准库概览\n",
    "  4. 练习：编写测试用例和使用调试工具\n",
    "\n"
   ]
  },
  {
   "cell_type": "markdown",
   "id": "f0cd4ef3-acb7-4b1b-8098-6171586c8b00",
   "metadata": {},
   "source": [
    "## 1.测试的概念和基本方法\n",
    "\n",
    "测试是验证代码正确性的过程。\n",
    "单元测试：针对最小的测试单元进行测试。\n",
    "集成测试：测试多个单元的协同工作。\n",
    "测试框架：如unittest和pytest。"
   ]
  },
  {
   "cell_type": "code",
   "execution_count": 191,
   "id": "62ceb743-71b0-4e0a-b774-73ffa6c6b39c",
   "metadata": {},
   "outputs": [
    {
     "name": "stderr",
     "output_type": "stream",
     "text": [
      "E\n",
      "======================================================================\n",
      "ERROR: C:\\Users\\lvhb\\AppData\\Roaming\\jupyter\\runtime\\kernel-252306a0-6225-4823-8c3c-ab9e7366652e (unittest.loader._FailedTest.C:\\Users\\lvhb\\AppData\\Roaming\\jupyter\\runtime\\kernel-252306a0-6225-4823-8c3c-ab9e7366652e)\n",
      "----------------------------------------------------------------------\n",
      "AttributeError: module '__main__' has no attribute 'C:\\Users\\lvhb\\AppData\\Roaming\\jupyter\\runtime\\kernel-252306a0-6225-4823-8c3c-ab9e7366652e'\n",
      "\n",
      "----------------------------------------------------------------------\n",
      "Ran 1 test in 0.001s\n",
      "\n",
      "FAILED (errors=1)\n"
     ]
    },
    {
     "ename": "SystemExit",
     "evalue": "1",
     "output_type": "error",
     "traceback": [
      "An exception has occurred, use %tb to see the full traceback.\n",
      "\u001b[1;31mSystemExit\u001b[0m\u001b[1;31m:\u001b[0m 1\n"
     ]
    },
    {
     "name": "stderr",
     "output_type": "stream",
     "text": [
      "C:\\ProgramData\\anaconda3\\Lib\\site-packages\\IPython\\core\\interactiveshell.py:3585: UserWarning: To exit: use 'exit', 'quit', or Ctrl-D.\n",
      "  warn(\"To exit: use 'exit', 'quit', or Ctrl-D.\", stacklevel=1)\n"
     ]
    }
   ],
   "source": [
    "# 使用unittest框架编写测试用例\n",
    "import unittest\n",
    "\n",
    "def add(a, b):\n",
    "    return a + b\n",
    "\n",
    "class TestAddFunction(unittest.TestCase):\n",
    "    def test_add(self):\n",
    "        self.assertEqual(add(2, 3), 5)\n",
    "        self.assertEqual(add(-1, 1), 0)\n",
    "\n",
    "if __name__ == '__main__':\n",
    "    unittest.main()"
   ]
  },
  {
   "cell_type": "markdown",
   "id": "b664ffb1-fe34-4ea1-ad63-99398b5279b3",
   "metadata": {},
   "source": [
    "## 2.调试工具的使用（如pdb）\n",
    "\n",
    "pdb是Python的内置调试器。\n",
    "使用pdb.set_trace()设置断点。\n",
    "调试命令：n（下一步）、c（继续）、q（退出）。"
   ]
  },
  {
   "cell_type": "code",
   "execution_count": 193,
   "id": "45963cf4-fac9-4ba4-941e-93e961e1a405",
   "metadata": {},
   "outputs": [
    {
     "name": "stdout",
     "output_type": "stream",
     "text": [
      "> \u001b[1;32mc:\\users\\lvhb\\appdata\\local\\temp\\ipykernel_188280\\2148188896.py\u001b[0m(5)\u001b[0;36mcalculate\u001b[1;34m()\u001b[0m\n",
      "\n"
     ]
    },
    {
     "name": "stdin",
     "output_type": "stream",
     "text": [
      "ipdb>  23\n"
     ]
    },
    {
     "name": "stdout",
     "output_type": "stream",
     "text": [
      "23\n"
     ]
    },
    {
     "name": "stdin",
     "output_type": "stream",
     "text": [
      "ipdb>  \n"
     ]
    },
    {
     "name": "stdout",
     "output_type": "stream",
     "text": [
      "23\n"
     ]
    },
    {
     "name": "stdin",
     "output_type": "stream",
     "text": [
      "ipdb>  1\n"
     ]
    },
    {
     "name": "stdout",
     "output_type": "stream",
     "text": [
      "1\n"
     ]
    },
    {
     "name": "stdin",
     "output_type": "stream",
     "text": [
      "ipdb>  2\n"
     ]
    },
    {
     "name": "stdout",
     "output_type": "stream",
     "text": [
      "2\n"
     ]
    },
    {
     "name": "stdin",
     "output_type": "stream",
     "text": [
      "ipdb>  3\n"
     ]
    },
    {
     "name": "stdout",
     "output_type": "stream",
     "text": [
      "3\n",
      "--KeyboardInterrupt--\n",
      "\n",
      "KeyboardInterrupt: Interrupted by user\n"
     ]
    },
    {
     "data": {
      "text/plain": [
       "7"
      ]
     },
     "execution_count": 193,
     "metadata": {},
     "output_type": "execute_result"
    },
    {
     "name": "stdin",
     "output_type": "stream",
     "text": [
      "ipdb>  \n"
     ]
    }
   ],
   "source": [
    "import pdb\n",
    "\n",
    "def calculate(a, b):\n",
    "    pdb.set_trace()  # 设置断点\n",
    "    return a + b\n",
    "    \n",
    "calculate(3, 4)"
   ]
  },
  {
   "cell_type": "markdown",
   "id": "040921aa-d13a-44d0-b10b-63a86ce1e822",
   "metadata": {},
   "source": [
    "## 3.Python标准库概览\n",
    "\n",
    "Python标准库包含了许多用于不同任务的模块。\n",
    "例如：os（操作系统接口）、re（正则表达式）、json（JSON处理）、datetime（日期和时间）等。"
   ]
  },
  {
   "cell_type": "code",
   "execution_count": null,
   "id": "3efb4c3f-0616-45eb-9f6e-e6d3323f74b9",
   "metadata": {},
   "outputs": [],
   "source": [
    "# 使用os模块\n",
    "import os\n",
    "print(os.getcwd())  # 打印当前工作目录\n",
    "\n",
    "# 使用json模块\n",
    "import json\n",
    "data = {'name': 'Kimi', 'age': 30}\n",
    "print(json.dumps(data))  # 将字典转换为JSON字符串\n",
    "\n",
    "# 使用datetime模块\n",
    "from datetime import datetime\n",
    "print(datetime.now())  # 打印当前日期和时间"
   ]
  },
  {
   "cell_type": "code",
   "execution_count": null,
   "id": "adc5c626-f07d-4622-9165-901ba3c39305",
   "metadata": {},
   "outputs": [],
   "source": [
    "## 4.练习：编写测试用例和使用调试工具\n",
    "\n",
    "练习编写单元测试用例。\n",
    "练习使用pdb调试工具"
   ]
  },
  {
   "cell_type": "code",
   "execution_count": null,
   "id": "982aa84f-95a0-4e99-9760-00318f21027c",
   "metadata": {},
   "outputs": [],
   "source": [
    "# 练习1：编写测试用例\n",
    "import unittest\n",
    "\n",
    "def multiply(a, b):\n",
    "    return a * b\n",
    "\n",
    "class TestMultiplyFunction(unittest.TestCase):\n",
    "    def test_multiply(self):\n",
    "        self.assertEqual(multiply(3, 4), 12)\n",
    "        self.assertEqual(multiply(-1, -1), 1)\n",
    "        self.assertEqual(multiply(0, 100), 0)\n",
    "\n",
    "if __name__ == '__main__':\n",
    "    unittest.main()\n",
    "\n",
    "# 练习2：使用pdb调试工具\n",
    "import pdb\n",
    "\n",
    "def divide(a, b):\n",
    "    pdb.set_trace()  # 设置断点\n",
    "    return a / b\n",
    "\n",
    "divide(10, 2)"
   ]
  },
  {
   "cell_type": "code",
   "execution_count": null,
   "id": "06b5a4f7-1269-4227-8aaa-e81fe953e5a3",
   "metadata": {},
   "outputs": [],
   "source": [
    "## 作业和实践：\n",
    "### 编写测试用例\n",
    "\n",
    "编写一个函数subtract(a, b)，并为其编写测试用例，测试各种情况，包括正常情况和边界情况。"
   ]
  },
  {
   "cell_type": "code",
   "execution_count": null,
   "id": "57a85e1a-e2fb-4ac3-b1b6-ed0c01d6a4dc",
   "metadata": {},
   "outputs": [],
   "source": [
    "import unittest\n",
    "\n",
    "def subtract(a, b):\n",
    "    return a - b\n",
    "\n",
    "class TestSubtractFunction(unittest.TestCase):\n",
    "    def test_subtract(self):\n",
    "        self.assertEqual(subtract(10, 5), 5)\n",
    "        self.assertEqual(subtract(-1, 1), -2)\n",
    "        self.assertEqual(subtract(0, 0), 0)\n",
    "        with self.assertRaises(TypeError):\n",
    "            subtract(10, '2')\n",
    "\n",
    "if __name__ == '__main__':\n",
    "    unittest.main()"
   ]
  },
  {
   "cell_type": "code",
   "execution_count": null,
   "id": "074eff34-4e09-4de3-9356-9dbe93e86afd",
   "metadata": {},
   "outputs": [],
   "source": [
    "使用调试工具\n",
    "\n",
    "在一个函数中使用pdb设置断点，调试并找出函数中的错误。"
   ]
  },
  {
   "cell_type": "code",
   "execution_count": null,
   "id": "b71f776b-5a69-4783-b6c6-14d58f5c62a2",
   "metadata": {},
   "outputs": [],
   "source": [
    "import pdb\n",
    "\n",
    "def find_max(numbers):\n",
    "    max_num = numbers[0]\n",
    "    for num in numbers:\n",
    "        if num > max_num:\n",
    "            max_num = num\n",
    "    return max_num\n",
    "\n",
    "data = [3, 6, 2, 9, 1]\n",
    "find_max(data)\n",
    "pdb.set_trace()  # 设置断点，检查find_max函数的执行\n",
    "print(find_max(data))"
   ]
  },
  {
   "cell_type": "markdown",
   "id": "761ad3e8-df4b-44bb-82dd-cce1a192dbdd",
   "metadata": {},
   "source": [
    "# 第9课时：第三方库和框架（可选）\n",
    "- **目标**：了解Python的第三方库和框架，提升开发效率。\n",
    "- **内容**：\n",
    "  1. 第三方库的安装和使用\n",
    "  2. 常用的第三方库（如requests, pandas, NumPy等）\n",
    "  3. 框架简介（如Django, Flask等）\n",
    "  4. 练习：使用第三方库解决实际问题\n",
    "\n"
   ]
  },
  {
   "cell_type": "markdown",
   "id": "11a401f2-036c-4301-b9b3-3fbcb74eddd9",
   "metadata": {},
   "source": [
    "# 补充课时：项目实战（可选）\n",
    "- **目标**：通过实际项目，综合运用所学知识。\n",
    "- **内容**：\n",
    "  1. 项目需求分析\n",
    "  2. 项目设计和规划\n",
    "  3. 项目开发和实现\n",
    "  4. 项目测试和部署\n",
    "\n"
   ]
  },
  {
   "cell_type": "markdown",
   "id": "aaca0a82-2648-4703-9be6-25ed01e4c082",
   "metadata": {},
   "source": [
    "这个课程规划可以根据实际教学进度和学生反馈进行调整。每个课时结束后，可以安排相应的作业和项目，以加深学生对知识点的理解和应用能力。"
   ]
  }
 ],
 "metadata": {
  "kernelspec": {
   "display_name": "Python 3 (ipykernel)",
   "language": "python",
   "name": "python3"
  },
  "language_info": {
   "codemirror_mode": {
    "name": "ipython",
    "version": 3
   },
   "file_extension": ".py",
   "mimetype": "text/x-python",
   "name": "python",
   "nbconvert_exporter": "python",
   "pygments_lexer": "ipython3",
   "version": "3.12.4"
  }
 },
 "nbformat": 4,
 "nbformat_minor": 5
}
